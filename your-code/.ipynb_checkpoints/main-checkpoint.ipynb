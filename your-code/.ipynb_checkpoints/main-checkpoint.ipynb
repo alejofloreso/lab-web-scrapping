{
 "cells": [
  {
   "cell_type": "markdown",
   "metadata": {},
   "source": [
    "# Web Scraping Lab\n",
    "\n",
    "You will find in this notebook some scrapy exercises to practise your scraping skills.\n",
    "\n",
    "**Tips:**\n",
    "\n",
    "- Check the response status code for each request to ensure you have obtained the intended contennt.\n",
    "- Print the response text in each request to understand the kind of info you are getting and its format.\n",
    "- Check for patterns in the response text to extract the data/info requested in each question.\n",
    "- Visit each url and take a look at its source through Chrome DevTools. You'll need to identify the html tags, special class names etc. used for the html content you are expected to extract."
   ]
  },
  {
   "cell_type": "markdown",
   "metadata": {},
   "source": [
    "- [Requests library](http://docs.python-requests.org/en/master/#the-user-guide) documentation \n",
    "- [Beautiful Soup Doc](https://www.crummy.com/software/BeautifulSoup/bs4/doc/)\n",
    "- [Urllib](https://docs.python.org/3/library/urllib.html#module-urllib)\n",
    "- [re lib](https://docs.python.org/3/library/re.html)\n",
    "- [lxml lib](https://lxml.de/)\n",
    "- [Scrapy](https://scrapy.org/)\n",
    "- [List of HTTP status codes](https://en.wikipedia.org/wiki/List_of_HTTP_status_codes)\n",
    "- [HTML basics](http://www.simplehtmlguide.com/cheatsheet.php)\n",
    "- [CSS basics](https://www.cssbasics.com/#page_start)"
   ]
  },
  {
   "cell_type": "markdown",
   "metadata": {},
   "source": [
    "#### Below are the libraries and modules you may need. `requests`,  `BeautifulSoup` and `pandas` are imported for you. If you prefer to use additional libraries feel free to uncomment them."
   ]
  },
  {
   "cell_type": "code",
   "execution_count": 64,
   "metadata": {},
   "outputs": [],
   "source": [
    "import requests\n",
    "from bs4 import BeautifulSoup\n",
    "import pandas as pd\n",
    "# from pprint import pprint\n",
    "# from lxml import html\n",
    "# from lxml.html import fromstring\n",
    "# import urllib.request\n",
    "# from urllib.request import urlopen\n",
    "# import random\n",
    "import re\n",
    "# import scrapy"
   ]
  },
  {
   "cell_type": "markdown",
   "metadata": {},
   "source": [
    "#### Download, parse (using BeautifulSoup), and print the content from the Trending Developers page from GitHub:"
   ]
  },
  {
   "cell_type": "code",
   "execution_count": 2,
   "metadata": {},
   "outputs": [],
   "source": [
    "# This is the url you will scrape in this exercise\n",
    "url = 'https://github.com/trending/developers'"
   ]
  },
  {
   "cell_type": "code",
   "execution_count": 11,
   "metadata": {},
   "outputs": [],
   "source": [
    "html = requests.get(url).content\n",
    "soup = BeautifulSoup(html, \"lxml\")"
   ]
  },
  {
   "cell_type": "markdown",
   "metadata": {},
   "source": [
    "#### Display the names of the trending developers retrieved in the previous step.\n",
    "\n",
    "Your output should be a Python list of developer names. Each name should not contain any html tag.\n",
    "\n",
    "**Instructions:**\n",
    "\n",
    "1. Find out the html tag and class names used for the developer names. You can achieve this using Chrome DevTools.\n",
    "\n",
    "1. Use BeautifulSoup to extract all the html elements that contain the developer names.\n",
    "\n",
    "1. Use string manipulation techniques to replace whitespaces and linebreaks (i.e. `\\n`) in the *text* of each html element. Use a list to store the clean names.\n",
    "\n",
    "1. Print the list of names.\n",
    "\n",
    "Your output should look like below:\n",
    "\n",
    "```\n",
    "['trimstray (@trimstray)',\n",
    " 'joewalnes (JoeWalnes)',\n",
    " 'charlax (Charles-AxelDein)',\n",
    " 'ForrestKnight (ForrestKnight)',\n",
    " 'revery-ui (revery-ui)',\n",
    " 'alibaba (Alibaba)',\n",
    " 'Microsoft (Microsoft)',\n",
    " 'github (GitHub)',\n",
    " 'facebook (Facebook)',\n",
    " 'boazsegev (Bo)',\n",
    " 'google (Google)',\n",
    " 'cloudfetch',\n",
    " 'sindresorhus (SindreSorhus)',\n",
    " 'tensorflow',\n",
    " 'apache (TheApacheSoftwareFoundation)',\n",
    " 'DevonCrawford (DevonCrawford)',\n",
    " 'ARMmbed (ArmMbed)',\n",
    " 'vuejs (vuejs)',\n",
    " 'fastai (fast.ai)',\n",
    " 'QiShaoXuan (Qi)',\n",
    " 'joelparkerhenderson (JoelParkerHenderson)',\n",
    " 'torvalds (LinusTorvalds)',\n",
    " 'CyC2018',\n",
    " 'komeiji-satori (神楽坂覚々)',\n",
    " 'script-8']\n",
    " ```"
   ]
  },
  {
   "cell_type": "code",
   "execution_count": 12,
   "metadata": {},
   "outputs": [
    {
     "data": {
      "text/plain": [
       "['PaddlePaddle /      PaddleDetection   username:PaddlePaddle/PaddleDetection',\n",
       " 'openai /      guided-diffusion   username:openai/guided-diffusion',\n",
       " 'pyodide /      pyodide   username:pyodide/pyodide',\n",
       " 'pallets /      flask   username:pallets/flask',\n",
       " 'deepinsight /      insightface   username:deepinsight/insightface',\n",
       " 'divanov11 /      mumbleapi   username:divanov11/mumbleapi',\n",
       " '521xueweihan /      HelloGitHub   username:521xueweihan/HelloGitHub',\n",
       " 'PaddlePaddle /      Paddle   username:PaddlePaddle/Paddle',\n",
       " 'huggingface /      transformers   username:huggingface/transformers',\n",
       " 'Rapptz /      discord.py   username:Rapptz/discord.py',\n",
       " 'aws /      serverless-application-model   username:aws/serverless-application-model',\n",
       " 'ubisoft /      mixer   username:ubisoft/mixer',\n",
       " 'garrettj403 /      SciencePlots   username:garrettj403/SciencePlots',\n",
       " 'CyberPunkMetalHead /      Binance-volatility-trading-bot   username:CyberPunkMetalHead/Binance-volatility-trading-bot',\n",
       " '521xueweihan /      GitHub520   username:521xueweihan/GitHub520',\n",
       " 'holoviz /      panel   username:holoviz/panel',\n",
       " 'aimhubio /      aim   username:aimhubio/aim',\n",
       " 'tiangolo /      fastapi   username:tiangolo/fastapi',\n",
       " 'minimaxir /      big-list-of-naughty-strings   username:minimaxir/big-list-of-naughty-strings',\n",
       " 'swisskyrepo /      PayloadsAllTheThings   username:swisskyrepo/PayloadsAllTheThings',\n",
       " 'swar /      Swar-Chia-Plot-Manager   username:swar/Swar-Chia-Plot-Manager',\n",
       " 'pallets /      click   username:pallets/click',\n",
       " 'PaddlePaddle /      PaddleSeg   username:PaddlePaddle/PaddleSeg',\n",
       " 'bridgecrewio /      checkov   username:bridgecrewio/checkov',\n",
       " 'PySimpleGUI /      PySimpleGUI   username:PySimpleGUI/PySimpleGUI']"
      ]
     },
     "execution_count": 12,
     "metadata": {},
     "output_type": "execute_result"
    }
   ],
   "source": [
    "#your code\n",
    "devs = soup.find_all('h1', {'class':'h3 lh-condensed'})\n",
    "devs_list = [(dev.a.text.replace('\\n','').strip()) + ('   username:' + dev.a['href'].strip('/')) for dev in devs]\n",
    "devs_list"
   ]
  },
  {
   "cell_type": "markdown",
   "metadata": {},
   "source": [
    "#### Display the trending Python repositories in GitHub\n",
    "\n",
    "The steps to solve this problem is similar to the previous one except that you need to find out the repository names instead of developer names."
   ]
  },
  {
   "cell_type": "code",
   "execution_count": 5,
   "metadata": {},
   "outputs": [],
   "source": [
    "# This is the url you will scrape in this exercise\n",
    "url = 'https://github.com/trending/python?since=daily'"
   ]
  },
  {
   "cell_type": "code",
   "execution_count": 13,
   "metadata": {},
   "outputs": [],
   "source": [
    "#your code\n",
    "html = requests.get(url).content\n",
    "soup = BeautifulSoup(html, \"lxml\")"
   ]
  },
  {
   "cell_type": "code",
   "execution_count": 14,
   "metadata": {},
   "outputs": [
    {
     "data": {
      "text/plain": [
       "['repo:PaddlePaddle/PaddleDetection',\n",
       " 'repo:openai/guided-diffusion',\n",
       " 'repo:pyodide/pyodide',\n",
       " 'repo:pallets/flask',\n",
       " 'repo:deepinsight/insightface',\n",
       " 'repo:divanov11/mumbleapi',\n",
       " 'repo:521xueweihan/HelloGitHub',\n",
       " 'repo:PaddlePaddle/Paddle',\n",
       " 'repo:huggingface/transformers',\n",
       " 'repo:Rapptz/discord.py',\n",
       " 'repo:aws/serverless-application-model',\n",
       " 'repo:ubisoft/mixer',\n",
       " 'repo:garrettj403/SciencePlots',\n",
       " 'repo:CyberPunkMetalHead/Binance-volatility-trading-bot',\n",
       " 'repo:521xueweihan/GitHub520',\n",
       " 'repo:holoviz/panel',\n",
       " 'repo:aimhubio/aim',\n",
       " 'repo:tiangolo/fastapi',\n",
       " 'repo:minimaxir/big-list-of-naughty-strings',\n",
       " 'repo:swisskyrepo/PayloadsAllTheThings',\n",
       " 'repo:swar/Swar-Chia-Plot-Manager',\n",
       " 'repo:pallets/click',\n",
       " 'repo:PaddlePaddle/PaddleSeg',\n",
       " 'repo:bridgecrewio/checkov',\n",
       " 'repo:PySimpleGUI/PySimpleGUI']"
      ]
     },
     "execution_count": 14,
     "metadata": {},
     "output_type": "execute_result"
    }
   ],
   "source": [
    "devs = soup.find_all('h1', {'class':'h3 lh-condensed'})\n",
    "devs_list = [('repo:' + dev.a['href'].strip('/')) for dev in devs]\n",
    "devs_list"
   ]
  },
  {
   "cell_type": "markdown",
   "metadata": {},
   "source": [
    "#### Display all the image links from Walt Disney wikipedia page"
   ]
  },
  {
   "cell_type": "code",
   "execution_count": 15,
   "metadata": {},
   "outputs": [],
   "source": [
    "# This is the url you will scrape in this exercise\n",
    "url_Disney = 'https://en.wikipedia.org/wiki/Walt_Disney'"
   ]
  },
  {
   "cell_type": "code",
   "execution_count": 16,
   "metadata": {},
   "outputs": [
    {
     "data": {
      "text/plain": [
       "['http://upload.wikimedia.org/wikipedia/en/thumb/e/e7/Cscr-featured.svg/20px-Cscr-featured.svg.png',\n",
       " 'http://upload.wikimedia.org/wikipedia/en/thumb/8/8c/Extended-protection-shackle.svg/20px-Extended-protection-shackle.svg.png',\n",
       " 'http://upload.wikimedia.org/wikipedia/commons/thumb/d/df/Walt_Disney_1946.JPG/220px-Walt_Disney_1946.JPG',\n",
       " 'http://upload.wikimedia.org/wikipedia/commons/thumb/8/87/Walt_Disney_1942_signature.svg/150px-Walt_Disney_1942_signature.svg.png',\n",
       " 'http://upload.wikimedia.org/wikipedia/commons/thumb/c/c4/Walt_Disney_envelope_ca._1921.jpg/220px-Walt_Disney_envelope_ca._1921.jpg',\n",
       " 'http://upload.wikimedia.org/wikipedia/commons/thumb/4/4d/Newman_Laugh-O-Gram_%281921%29.webm/220px-seek%3D2-Newman_Laugh-O-Gram_%281921%29.webm.jpg',\n",
       " 'http://upload.wikimedia.org/wikipedia/commons/thumb/0/0d/Trolley_Troubles_poster.jpg/170px-Trolley_Troubles_poster.jpg',\n",
       " 'http://upload.wikimedia.org/wikipedia/en/thumb/4/4e/Steamboat-willie.jpg/170px-Steamboat-willie.jpg',\n",
       " 'http://upload.wikimedia.org/wikipedia/commons/thumb/5/57/Walt_Disney_1935.jpg/170px-Walt_Disney_1935.jpg',\n",
       " 'http://upload.wikimedia.org/wikipedia/commons/thumb/c/cd/Walt_Disney_Snow_white_1937_trailer_screenshot_%2813%29.jpg/220px-Walt_Disney_Snow_white_1937_trailer_screenshot_%2813%29.jpg',\n",
       " 'http://upload.wikimedia.org/wikipedia/commons/thumb/1/15/Disney_drawing_goofy.jpg/170px-Disney_drawing_goofy.jpg',\n",
       " 'http://upload.wikimedia.org/wikipedia/commons/thumb/1/13/DisneySchiphol1951.jpg/220px-DisneySchiphol1951.jpg',\n",
       " 'http://upload.wikimedia.org/wikipedia/commons/thumb/8/8c/WaltDisneyplansDisneylandDec1954.jpg/220px-WaltDisneyplansDisneylandDec1954.jpg',\n",
       " 'http://upload.wikimedia.org/wikipedia/commons/thumb/f/ff/Walt_disney_portrait_right.jpg/170px-Walt_disney_portrait_right.jpg',\n",
       " 'http://upload.wikimedia.org/wikipedia/commons/thumb/1/1a/Walt_Disney_Grave.JPG/170px-Walt_Disney_Grave.JPG',\n",
       " 'http://upload.wikimedia.org/wikipedia/commons/thumb/2/2d/Roy_O._Disney_with_Company_at_Press_Conference.jpg/170px-Roy_O._Disney_with_Company_at_Press_Conference.jpg',\n",
       " 'http://upload.wikimedia.org/wikipedia/commons/thumb/a/a9/Disney_Display_Case.JPG/170px-Disney_Display_Case.JPG',\n",
       " 'http://upload.wikimedia.org/wikipedia/commons/thumb/6/6c/Disney1968.jpg/170px-Disney1968.jpg',\n",
       " 'http://upload.wikimedia.org/wikipedia/en/thumb/8/8a/OOjs_UI_icon_edit-ltr-progressive.svg/10px-OOjs_UI_icon_edit-ltr-progressive.svg.png',\n",
       " 'http://upload.wikimedia.org/wikipedia/commons/thumb/e/e3/Disneyland_Resort_logo.svg/135px-Disneyland_Resort_logo.svg.png',\n",
       " 'http://upload.wikimedia.org/wikipedia/commons/thumb/d/da/Animation_disc.svg/30px-Animation_disc.svg.png',\n",
       " 'http://upload.wikimedia.org/wikipedia/en/thumb/6/69/P_vip.svg/29px-P_vip.svg.png',\n",
       " 'http://upload.wikimedia.org/wikipedia/commons/thumb/1/1a/Magic_Kingdom_castle.jpg/24px-Magic_Kingdom_castle.jpg',\n",
       " 'http://upload.wikimedia.org/wikipedia/en/thumb/e/e7/Video-x-generic.svg/30px-Video-x-generic.svg.png',\n",
       " 'http://upload.wikimedia.org/wikipedia/commons/thumb/a/a3/Flag_of_Los_Angeles_County%2C_California.svg/30px-Flag_of_Los_Angeles_County%2C_California.svg.png',\n",
       " 'http://upload.wikimedia.org/wikipedia/commons/thumb/8/8c/Blank_television_set.svg/30px-Blank_television_set.svg.png',\n",
       " 'http://upload.wikimedia.org/wikipedia/en/thumb/a/a4/Flag_of_the_United_States.svg/30px-Flag_of_the_United_States.svg.png',\n",
       " 'http://upload.wikimedia.org/wikipedia/en/thumb/4/4a/Commons-logo.svg/22px-Commons-logo.svg.png',\n",
       " 'http://upload.wikimedia.org/wikipedia/commons/thumb/f/fa/Wikiquote-logo.svg/25px-Wikiquote-logo.svg.png',\n",
       " 'http://upload.wikimedia.org/wikipedia/commons/thumb/f/ff/Wikidata-logo.svg/30px-Wikidata-logo.svg.png',\n",
       " 'http://upload.wikimedia.org/wikipedia/en/thumb/8/8a/OOjs_UI_icon_edit-ltr-progressive.svg/10px-OOjs_UI_icon_edit-ltr-progressive.svg.png',\n",
       " 'http://en.wikipedia.org/wiki/Special:CentralAutoLogin/start?type=1x1',\n",
       " 'http:/static/images/footer/wikimedia-button.png',\n",
       " 'http:/static/images/footer/poweredby_mediawiki_88x31.png']"
      ]
     },
     "execution_count": 16,
     "metadata": {},
     "output_type": "execute_result"
    }
   ],
   "source": [
    "#your code\n",
    "html = requests.get(url_Disney).content\n",
    "soup = BeautifulSoup(html, \"lxml\")\n",
    "pics = soup.find_all('img')\n",
    "#pics\n",
    "#for pic in pics:\n",
    "#    print('http:' + pic['src'])\n",
    "pics_list = [('http:' + pic['src']) for pic in pics]\n",
    "pics_list"
   ]
  },
  {
   "cell_type": "markdown",
   "metadata": {},
   "source": [
    "#### Retrieve an arbitary Wikipedia page of \"Python\" and create a list of links on that page"
   ]
  },
  {
   "cell_type": "code",
   "execution_count": 20,
   "metadata": {},
   "outputs": [],
   "source": [
    "# This is the url you will scrape in this exercise\n",
    "url ='https://en.wikipedia.org/wiki/Pythonidae' "
   ]
  },
  {
   "cell_type": "code",
   "execution_count": 22,
   "metadata": {
    "collapsed": true
   },
   "outputs": [
    {
     "data": {
      "text/plain": [
       "['#mw-head',\n",
       " '#searchInput',\n",
       " '/wiki/File:Wiki_letter_w.svg',\n",
       " '/wiki/MOS:LEADLENGTH',\n",
       " '/wiki/Wikipedia:Summary_style',\n",
       " '/wiki/Wikipedia:Manual_of_Style/Lead_section#Provide_an_accessible_overview',\n",
       " '/wiki/File:Python_molurus_molurus_2.jpg',\n",
       " '/wiki/Indian_python',\n",
       " '/wiki/Taxonomy_(biology)',\n",
       " '/wiki/Template:Taxonomy/Pythonidae',\n",
       " '/wiki/Animal',\n",
       " '/wiki/Chordate',\n",
       " '/wiki/Reptile',\n",
       " '/wiki/Squamata',\n",
       " '/wiki/Snake',\n",
       " '/wiki/Pythonoidea',\n",
       " '/wiki/Leopold_Fitzinger',\n",
       " '/wiki/Synonym_(taxonomy)',\n",
       " '#cite_note-McD99-1',\n",
       " '/wiki/Family_(biology)',\n",
       " '/wiki/Venomous_snake',\n",
       " '/wiki/Snake',\n",
       " '/wiki/Genus',\n",
       " '/wiki/Species',\n",
       " '#cite_note-ITIS-2',\n",
       " '#Distribution_and_habitat',\n",
       " '#Common_names',\n",
       " '#Conservation',\n",
       " '#Behavior',\n",
       " '#Feeding',\n",
       " '#Reproduction',\n",
       " '#Captivity',\n",
       " '#Taxonomy',\n",
       " '#Genera',\n",
       " '#Relationship_with_humans',\n",
       " '#Poaching',\n",
       " '#Pythons_and_human_health',\n",
       " '#Traditional_use',\n",
       " '#Skin',\n",
       " '#Fat',\n",
       " '#Blood',\n",
       " '#Feces',\n",
       " '#Organs',\n",
       " '#Folklore',\n",
       " '#References',\n",
       " '#Notes',\n",
       " '#Citations',\n",
       " '#External_links',\n",
       " '/w/index.php?title=Pythonidae&action=edit&section=1',\n",
       " '/wiki/Sub-Saharan_Africa',\n",
       " '/wiki/Nepal',\n",
       " '/wiki/India',\n",
       " '/wiki/Bangladesh',\n",
       " '/wiki/Sri_Lanka',\n",
       " '/wiki/Southeast_Asia',\n",
       " '/wiki/Pakistan',\n",
       " '/wiki/China',\n",
       " '/wiki/Philippines',\n",
       " '/wiki/Australia',\n",
       " '#cite_note-McD99-1',\n",
       " '/wiki/Burmese_python',\n",
       " '/wiki/Invasive_species',\n",
       " '/wiki/Everglades_National_Park',\n",
       " '#cite_note-NGeo-3',\n",
       " '/w/index.php?title=Pythonidae&action=edit&section=2',\n",
       " '/wiki/Sinhala_language',\n",
       " '/w/index.php?title=Pythonidae&action=edit&section=3',\n",
       " '/wiki/Indian_python',\n",
       " '/w/index.php?title=Pythonidae&action=edit&section=4',\n",
       " '/wiki/File:Blackheaded_python2.jpg',\n",
       " '/wiki/File:Blackheaded_python2.jpg',\n",
       " '/wiki/Aspidites_melanocephalus',\n",
       " '/wiki/Ambush_predator',\n",
       " '#cite_note-Wang-4',\n",
       " '#cite_note-5',\n",
       " '/w/index.php?title=Pythonidae&action=edit&section=5',\n",
       " '/wiki/Constriction',\n",
       " '#cite_note-6',\n",
       " '#cite_note-7',\n",
       " '/wiki/Deer',\n",
       " '/wiki/African_rock_python',\n",
       " '/wiki/Antelope',\n",
       " '/wiki/Human',\n",
       " '/wiki/Sulawesi',\n",
       " '/wiki/Indonesia',\n",
       " '#cite_note-8',\n",
       " '/wiki/Reticulated_python',\n",
       " '/wiki/File:Python_skull_rotation.gif',\n",
       " '/wiki/File:Python_skull_rotation.gif',\n",
       " '/w/index.php?title=Pythonidae&action=edit&section=6',\n",
       " '/wiki/Oviparous',\n",
       " '/wiki/Boidae',\n",
       " '/wiki/Ovoviviparous',\n",
       " '/w/index.php?title=Pythonidae&action=edit&section=7',\n",
       " '#cite_note-Anapsid-9',\n",
       " '#cite_note-10',\n",
       " '/w/index.php?title=Pythonidae&action=edit&section=8',\n",
       " '/wiki/George_Albert_Boulenger',\n",
       " '/wiki/Pythoninae',\n",
       " '/wiki/Subfamily',\n",
       " '/wiki/Boidae',\n",
       " '#cite_note-McD99-1',\n",
       " '/wiki/Xenopeltis',\n",
       " '/wiki/Loxocemus',\n",
       " '#cite_note-11',\n",
       " '#cite_note-12',\n",
       " '/w/index.php?title=Pythonidae&action=edit&section=9',\n",
       " '#cite_note-ITIS-2',\n",
       " '#cite_note-ITIS-2',\n",
       " '#cite_note-ITIS-2',\n",
       " '#cite_note-13',\n",
       " '#cite_note-ITIS-2',\n",
       " '#cite_note-McD99-1',\n",
       " '/wiki/Antaresia',\n",
       " '/wiki/Apodora',\n",
       " '#cite_note-14',\n",
       " '/wiki/Aspidites',\n",
       " '/wiki/Wilhelm_Peters',\n",
       " '/wiki/Bothrochilus',\n",
       " '/wiki/Leopold_Fitzinger',\n",
       " '/wiki/Leiopython',\n",
       " '/wiki/Ambrosius_Hubrecht',\n",
       " '/wiki/Liasis',\n",
       " '/wiki/John_Edward_Gray',\n",
       " '/wiki/Indonesia',\n",
       " '/wiki/Lesser_Sunda_Islands',\n",
       " '/wiki/Malayopython',\n",
       " '/wiki/Morelia_(snake)',\n",
       " '/wiki/Maluku_Islands',\n",
       " '/wiki/Nawaran',\n",
       " '/wiki/Python_(genus)',\n",
       " '#cite_note-15',\n",
       " '/wiki/Fran%C3%A7ois_Marie_Daudin',\n",
       " '/wiki/Sahara',\n",
       " '/wiki/Madagascar',\n",
       " '/wiki/Bangladesh',\n",
       " '/wiki/Sri_Lanka',\n",
       " '/wiki/Nicobar_Islands',\n",
       " '/wiki/Burma',\n",
       " '/wiki/Indochina',\n",
       " '/wiki/Hong_Kong',\n",
       " '/wiki/Hainan',\n",
       " '/wiki/Indonesia',\n",
       " '/wiki/Philippines',\n",
       " '/wiki/Simalia',\n",
       " '/wiki/Halmahera',\n",
       " '/wiki/Ambon_Island',\n",
       " '/wiki/Seram_Island',\n",
       " '/wiki/Maluku_Islands',\n",
       " '/wiki/Northern_Territory',\n",
       " '/wiki/Queensland',\n",
       " '/wiki/Torres_Strait',\n",
       " '/wiki/Papua_New_Guinea',\n",
       " '/w/index.php?title=Pythonidae&action=edit&section=10',\n",
       " '/w/index.php?title=Pythonidae&action=edit&section=11',\n",
       " '/wiki/Poaching',\n",
       " '#cite_note-16',\n",
       " '/wiki/Bushmeat',\n",
       " '#cite_note-Jensen_2017-17',\n",
       " '#cite_note-18',\n",
       " '/wiki/Bushmeat',\n",
       " '/wiki/Cameroon',\n",
       " '/wiki/African_rock_python',\n",
       " '#cite_note-Jensen_2017-17',\n",
       " '/wiki/Cameroon',\n",
       " '/wiki/Kenya',\n",
       " '/wiki/Snakeskin',\n",
       " '#cite_note-19',\n",
       " '/w/index.php?title=Pythonidae&action=edit&section=12',\n",
       " '/wiki/Salmonellosis',\n",
       " '/wiki/Chlamydia_infection',\n",
       " '/wiki/Leptospirosis',\n",
       " '/w/index.php?title=Aeromoniasis&action=edit&redlink=1',\n",
       " '/wiki/Campylobacteriosis',\n",
       " '/wiki/Zygomycosis',\n",
       " '#cite_note-20',\n",
       " '#cite_note-21',\n",
       " '/wiki/Sepsis',\n",
       " '/wiki/Meningitis',\n",
       " '#cite_note-22',\n",
       " '#cite_note-Soewu_2008-23',\n",
       " '/wiki/Hispid_cotton_rat',\n",
       " '/wiki/Everglades_virus',\n",
       " '#cite_note-24',\n",
       " '/w/index.php?title=Pythonidae&action=edit&section=13',\n",
       " '/w/index.php?title=Pythonidae&action=edit&section=14',\n",
       " '#cite_note-AlexanderMoshoeu2016-25',\n",
       " '/wiki/South_Africa',\n",
       " '/wiki/Zulu_people',\n",
       " '#cite_note-AlexanderMoshoeu2016-25',\n",
       " '#cite_note-AlexanderMoshoeu2016-25',\n",
       " '/w/index.php?title=Pythonidae&action=edit&section=15',\n",
       " '#cite_note-AlexanderMoshoeu2016-25',\n",
       " '/wiki/Joint_pain',\n",
       " '/wiki/Rheumatism',\n",
       " '/wiki/Toothache',\n",
       " '/wiki/Eye_sight',\n",
       " '#cite_note-:2-26',\n",
       " '/wiki/Psychosis',\n",
       " '#cite_note-KajawuChingarande2015-27',\n",
       " '#cite_note-:2-26',\n",
       " '#cite_note-28',\n",
       " '/w/index.php?title=Pythonidae&action=edit&section=16',\n",
       " '/wiki/Traditional_medicine',\n",
       " '/wiki/Fatty_acid',\n",
       " '/wiki/Triglyceride',\n",
       " '/wiki/Lipid',\n",
       " '#cite_note-:2-26',\n",
       " '#cite_note-:2-26',\n",
       " '#cite_note-29',\n",
       " '/w/index.php?title=Pythonidae&action=edit&section=17',\n",
       " '/wiki/Tanzania',\n",
       " '/wiki/Feces',\n",
       " '#cite_note-30',\n",
       " '/w/index.php?title=Pythonidae&action=edit&section=18',\n",
       " '/wiki/Gallbladder',\n",
       " '/wiki/Liver',\n",
       " '#cite_note-Soewu_2008-23',\n",
       " '#cite_note-Soewu_2008-23',\n",
       " '/w/index.php?title=Pythonidae&action=edit&section=19',\n",
       " '/wiki/Ghana',\n",
       " '#cite_note-31',\n",
       " '/wiki/Botswana',\n",
       " '#cite_note-32',\n",
       " '/wiki/Benin',\n",
       " '/wiki/Yoruba_language',\n",
       " '#cite_note-33',\n",
       " '/w/index.php?title=Pythonidae&action=edit&section=20',\n",
       " '/w/index.php?title=Pythonidae&action=edit&section=21',\n",
       " '#cite_ref-13',\n",
       " '#cite_ref-15',\n",
       " '/wiki/Type_genus',\n",
       " '#cite_note-McD99-1',\n",
       " '/w/index.php?title=Pythonidae&action=edit&section=22',\n",
       " '#cite_ref-McD99_1-0',\n",
       " '#cite_ref-McD99_1-1',\n",
       " '#cite_ref-McD99_1-2',\n",
       " '#cite_ref-McD99_1-3',\n",
       " '#cite_ref-McD99_1-4',\n",
       " 'https://books.google.com/books?id=GQOuswEACAAJ',\n",
       " '/wiki/ISBN_(identifier)',\n",
       " '/wiki/Special:BookSources/978-1-893777-01-9',\n",
       " '/wiki/Help:CS1_errors#extra_text_volume',\n",
       " '#cite_ref-ITIS_2-0',\n",
       " '#cite_ref-ITIS_2-1',\n",
       " '#cite_ref-ITIS_2-2',\n",
       " '#cite_ref-ITIS_2-3',\n",
       " '#cite_ref-ITIS_2-4',\n",
       " 'https://www.itis.gov/servlet/SingleRpt/SingleRpt?search_topic=TSN&search_value=563893',\n",
       " '/wiki/Integrated_Taxonomic_Information_System',\n",
       " '#cite_ref-NGeo_3-0',\n",
       " 'http://news.nationalgeographic.com/news/2004/06/0603_040603_invasivespecies.html',\n",
       " '#cite_ref-Wang_4-0',\n",
       " 'https://www.washingtonpost.com/news/worldviews/wp/2017/03/29/an-indonesian-man-disappeared-villagers-found-his-body-inside-a-23-foot-long-python/',\n",
       " '#cite_ref-5',\n",
       " 'https://www.washingtonpost.com/news/worldviews/wp/2018/06/16/a-woman-went-to-check-her-corn-and-was-swallowed-by-a-python/?wpisrc=nl_most&wpmm=1',\n",
       " '#cite_ref-6',\n",
       " '#cite_ref-7',\n",
       " 'https://doi.org/10.1242%2Fjeb.121384',\n",
       " '/wiki/Doi_(identifier)',\n",
       " 'https://doi.org/10.1242%2Fjeb.121384',\n",
       " '/wiki/PMID_(identifier)',\n",
       " '//pubmed.ncbi.nlm.nih.gov/26202779',\n",
       " '#cite_ref-8',\n",
       " 'https://www.theguardian.com/world/2017/mar/29/giant-python-swallows-indonesian-farmer-in-one-go',\n",
       " '#cite_ref-Anapsid_9-0',\n",
       " 'http://www.anapsid.org/coloburm.html',\n",
       " '#cite_ref-10',\n",
       " 'http://m.humanesociety.org/assets/pdfs/wildlife/captive/constrictor-snake-attacks.pdf',\n",
       " '#cite_ref-11',\n",
       " '//www.ncbi.nlm.nih.gov/pmc/articles/PMC3682911',\n",
       " '/wiki/Doi_(identifier)',\n",
       " 'https://doi.org/10.1186%2F1471-2148-13-93',\n",
       " '/wiki/PMC_(identifier)',\n",
       " '//www.ncbi.nlm.nih.gov/pmc/articles/PMC3682911',\n",
       " '/wiki/PMID_(identifier)',\n",
       " '//pubmed.ncbi.nlm.nih.gov/23627680',\n",
       " '#cite_ref-12',\n",
       " 'https://web.archive.org/web/20151202212953/http://www.rgrahamreynolds.info/wp-content/uploads/2014/01/Reynolds_etal_2014_MPE.pdf',\n",
       " '/wiki/Doi_(identifier)',\n",
       " 'https://doi.org/10.1016%2Fj.ympev.2013.11.011',\n",
       " '/wiki/PMID_(identifier)',\n",
       " '//pubmed.ncbi.nlm.nih.gov/24315866',\n",
       " 'http://www.rgrahamreynolds.info/wp-content/uploads/2014/01/Reynolds_etal_2014_MPE.pdf',\n",
       " '#cite_ref-14',\n",
       " 'https://media.australianmuseum.net.au/media/Uploads/Journals/16847/52_complete.pdf',\n",
       " '/wiki/Doi_(identifier)',\n",
       " 'https://doi.org/10.3853%2Fj.0812-7387.19.1993.52',\n",
       " '/wiki/ISBN_(identifier)',\n",
       " '/wiki/Special:BookSources/0-7310-1164-3',\n",
       " '#cite_ref-16',\n",
       " 'https://www.bbc.com/news/science-environment-20509720',\n",
       " '#cite_ref-Jensen_2017_17-0',\n",
       " '#cite_ref-Jensen_2017_17-1',\n",
       " 'https://blog.nationalgeographic.org/2017/09/05/large-snakes-are-on-the-menu-at-cameroons-nkoldongo-bushmeat-market/',\n",
       " '#cite_ref-18',\n",
       " 'https://motherboard.vice.com/en_us/article/pgapvv/snake-farms-could-tackle-the-billion-dollar-black-market-for-python-skin',\n",
       " '#cite_ref-19',\n",
       " 'https://www.bbc.com/news/business-38499611',\n",
       " '#cite_ref-20',\n",
       " 'https://ras.research.cornell.edu/care/documents/OHS/zoonosis_information_sheet_reptiles.pdf',\n",
       " '#cite_ref-21',\n",
       " 'https://doi.org/10.1016%2Fj.apjtm.2017.07.020',\n",
       " '/wiki/Doi_(identifier)',\n",
       " 'https://doi.org/10.1016%2Fj.apjtm.2017.07.020',\n",
       " '/wiki/PMID_(identifier)',\n",
       " '//pubmed.ncbi.nlm.nih.gov/28942820',\n",
       " '#cite_ref-22',\n",
       " 'https://www.zora.uzh.ch/id/eprint/79426/1/Meyer_Vector-Borne_2013.pdf',\n",
       " '/wiki/Doi_(identifier)',\n",
       " 'https://doi.org/10.1089%2Fvbz.2012.1133',\n",
       " '/wiki/PMID_(identifier)',\n",
       " '//pubmed.ncbi.nlm.nih.gov/23473215',\n",
       " '#cite_ref-Soewu_2008_23-0',\n",
       " '#cite_ref-Soewu_2008_23-1',\n",
       " '#cite_ref-Soewu_2008_23-2',\n",
       " 'https://www.researchgate.net/publication/228671991',\n",
       " '#cite_ref-24',\n",
       " '//www.ncbi.nlm.nih.gov/pmc/articles/PMC5665769',\n",
       " '/wiki/Doi_(identifier)',\n",
       " 'https://doi.org/10.1098%2Frsbl.2017.0353',\n",
       " '/wiki/PMC_(identifier)',\n",
       " '//www.ncbi.nlm.nih.gov/pmc/articles/PMC5665769',\n",
       " '/wiki/PMID_(identifier)',\n",
       " '//pubmed.ncbi.nlm.nih.gov/28978755',\n",
       " '#cite_ref-AlexanderMoshoeu2016_25-0',\n",
       " '#cite_ref-AlexanderMoshoeu2016_25-1',\n",
       " '#cite_ref-AlexanderMoshoeu2016_25-2',\n",
       " '#cite_ref-AlexanderMoshoeu2016_25-3',\n",
       " 'https://doi.org/10.17159%2Fsajs.2016%2F20150416',\n",
       " '/wiki/Doi_(identifier)',\n",
       " 'https://doi.org/10.17159%2Fsajs.2016%2F20150416',\n",
       " '/wiki/ISSN_(identifier)',\n",
       " '//www.worldcat.org/issn/0038-2353',\n",
       " '#cite_ref-:2_26-0',\n",
       " '#cite_ref-:2_26-1',\n",
       " '#cite_ref-:2_26-2',\n",
       " '#cite_ref-:2_26-3',\n",
       " 'https://www.sryahwapublications.com/journal-of-zoological-research/volume-1-issue-1/1.php',\n",
       " '#cite_ref-KajawuChingarande2015_27-0',\n",
       " 'https://www.researchgate.net/publication/283805674',\n",
       " '/wiki/Doi_(identifier)',\n",
       " 'https://doi.org/10.1080%2F17542863.2015.1106568',\n",
       " '/wiki/ISSN_(identifier)',\n",
       " '//www.worldcat.org/issn/1754-2863',\n",
       " '/wiki/S2CID_(identifier)',\n",
       " 'https://api.semanticscholar.org/CorpusID:57728277',\n",
       " '#cite_ref-28',\n",
       " 'https://pubmed.ncbi.nlm.nih.gov/19051590/',\n",
       " '/wiki/PMID_(identifier)',\n",
       " '//pubmed.ncbi.nlm.nih.gov/19051590',\n",
       " '#cite_ref-29',\n",
       " '//www.ncbi.nlm.nih.gov/pmc/articles/PMC2853519',\n",
       " '/wiki/Doi_(identifier)',\n",
       " 'https://doi.org/10.1186%2F1746-4269-6-13',\n",
       " '/wiki/PMC_(identifier)',\n",
       " '//www.ncbi.nlm.nih.gov/pmc/articles/PMC2853519',\n",
       " '/wiki/PMID_(identifier)',\n",
       " '//pubmed.ncbi.nlm.nih.gov/20346120',\n",
       " '#cite_ref-30',\n",
       " '//www.ncbi.nlm.nih.gov/pmc/articles/PMC4472419',\n",
       " '/wiki/Doi_(identifier)',\n",
       " 'https://doi.org/10.1186%2Fs13002-015-0001-y',\n",
       " '/wiki/PMC_(identifier)',\n",
       " '//www.ncbi.nlm.nih.gov/pmc/articles/PMC4472419',\n",
       " '/wiki/PMID_(identifier)',\n",
       " '//pubmed.ncbi.nlm.nih.gov/25947365',\n",
       " '#cite_ref-31',\n",
       " 'http://www.jpanafrican.org/docs/vol8no9/8.9-10-FDiawuo.pdf',\n",
       " '#cite_ref-32',\n",
       " 'https://www.apollon.uio.no/english/articles/2006/python-english.html',\n",
       " '#cite_ref-33',\n",
       " 'https://www.bbc.com/news/world-africa-41048840',\n",
       " '/w/index.php?title=Pythonidae&action=edit&section=23',\n",
       " '/wiki/Wikispecies',\n",
       " 'https://species.wikimedia.org/wiki/Special:Search/Pythonidae',\n",
       " 'https://commons.wikimedia.org/wiki/Pythonidae',\n",
       " 'http://reptile-database.reptarium.cz/search.php?submit=Search&taxon=Pythonidae',\n",
       " 'http://reptile-database.reptarium.cz/',\n",
       " 'http://www.answers.com/topic/pythons-pythonidae-biological-family',\n",
       " 'http://www.answers.com/',\n",
       " '/wiki/Template:Pythonidae',\n",
       " '/wiki/Template_talk:Pythonidae',\n",
       " 'https://en.wikipedia.org/w/index.php?title=Template:Pythonidae&action=edit',\n",
       " '/wiki/Antaresia',\n",
       " '/wiki/Children%27s_python',\n",
       " '/wiki/Spotted_python',\n",
       " '/wiki/Pygmy_python',\n",
       " '/wiki/Stimson%27s_python',\n",
       " '/wiki/Apodora',\n",
       " '/wiki/Apodora',\n",
       " '/wiki/Aspidites',\n",
       " '/wiki/Black-headed_python',\n",
       " '/wiki/Woma_python',\n",
       " '/wiki/Bothrochilus',\n",
       " '/wiki/Bothrochilus_biakensis',\n",
       " '/wiki/Bismarck_ringed_python',\n",
       " '/wiki/Bothrochilus_huonensis',\n",
       " '/wiki/Bothrochilus_meridionalis',\n",
       " '/wiki/Bothrochilus_montanus',\n",
       " '/wiki/Leiopython',\n",
       " '/wiki/D%27Albertis_python',\n",
       " '/wiki/Leiopython_fredparkeri',\n",
       " '/wiki/Liasis',\n",
       " '/wiki/Water_python',\n",
       " '/wiki/Liasis_mackloti',\n",
       " '/wiki/Olive_python',\n",
       " '/wiki/Morelia_(snake)',\n",
       " '/wiki/Morelia_azurea',\n",
       " '/wiki/Morelia_bredli',\n",
       " '/wiki/Morelia_carinata',\n",
       " '/wiki/Morelia_imbricata',\n",
       " '/wiki/Morelia_spilota',\n",
       " '/wiki/Green_tree_python',\n",
       " '/wiki/Malayopython',\n",
       " '/wiki/Reticulated_python',\n",
       " '/wiki/Timor_python',\n",
       " '/wiki/Nyctophilopython',\n",
       " '/wiki/Oenpelli_python',\n",
       " '/wiki/Python_(genus)',\n",
       " '/wiki/Python_anchietae',\n",
       " '/wiki/Burmese_python',\n",
       " '/wiki/Borneo_python',\n",
       " '/wiki/Python_brongersmai',\n",
       " '/wiki/Python_curtus',\n",
       " '/wiki/Python_kyaiktiyo',\n",
       " '/wiki/Python_molurus',\n",
       " '/wiki/Ball_python',\n",
       " '/wiki/African_rock_python',\n",
       " '/wiki/Simalia',\n",
       " '/wiki/Amethystine_python',\n",
       " '/wiki/Simalia_boeleni',\n",
       " '/wiki/Simalia_clastolepis',\n",
       " '/wiki/Australian_scrub_python',\n",
       " '/wiki/Simalia_nauta',\n",
       " '/wiki/Simalia_tracyae',\n",
       " '/wiki/Template:Snake_families',\n",
       " '/wiki/Template_talk:Snake_families',\n",
       " 'https://en.wikipedia.org/w/index.php?title=Template:Snake_families&action=edit',\n",
       " '/wiki/List_of_Serpentes_families',\n",
       " '/wiki/Animal',\n",
       " '/wiki/Chordate',\n",
       " '/wiki/Reptile',\n",
       " '/wiki/Squamata',\n",
       " '/wiki/Alethinophidia',\n",
       " '/wiki/Acrochordidae',\n",
       " '/wiki/Aniliidae',\n",
       " '/wiki/Anomochilidae',\n",
       " '/wiki/Atractaspididae',\n",
       " '/wiki/Boidae',\n",
       " '/wiki/Bolyeriidae',\n",
       " '/wiki/Colubridae',\n",
       " '/wiki/Cylindrophis',\n",
       " '/wiki/Elapidae',\n",
       " '/wiki/Loxocemidae',\n",
       " '/wiki/Tropidophiidae',\n",
       " '/wiki/Uropeltidae',\n",
       " '/wiki/Viperidae',\n",
       " '/wiki/Xenopeltidae',\n",
       " '/wiki/Scolecophidia',\n",
       " '/wiki/Anomalepididae',\n",
       " '/wiki/Gerrhopilidae',\n",
       " '/wiki/Leptotyphlopidae',\n",
       " '/wiki/Typhlopidae',\n",
       " '/wiki/Xenotyphlopidae',\n",
       " '/wiki/Help:Taxon_identifiers',\n",
       " '/wiki/Wikidata',\n",
       " 'https://www.wikidata.org/wiki/Q184018',\n",
       " '/wiki/Wikispecies',\n",
       " 'https://species.wikimedia.org/wiki/Pythonidae',\n",
       " '/wiki/Barcode_of_Life_Data_System',\n",
       " 'http://www.boldsystems.org/index.php/TaxBrowser_TaxonPage?taxid=515102',\n",
       " '/wiki/EPPO_Code',\n",
       " 'https://gd.eppo.int/taxon/1PYTNF',\n",
       " '/wiki/Fossilworks',\n",
       " 'http://fossilworks.org/bridge.pl?a=taxonInfo&taxon_no=99994',\n",
       " '/wiki/Global_Biodiversity_Information_Facility',\n",
       " 'https://www.gbif.org/species/4287591',\n",
       " '/wiki/INaturalist',\n",
       " 'https://www.inaturalist.org/taxa/67532',\n",
       " '/wiki/Interim_Register_of_Marine_and_Nonmarine_Genera',\n",
       " 'http://www.irmng.org/aphia.php?p=taxdetails&id=118691',\n",
       " '/wiki/Integrated_Taxonomic_Information_System',\n",
       " 'https://www.itis.gov/servlet/SingleRpt/SingleRpt?search_topic=TSN&search_value=563893',\n",
       " '/wiki/National_Center_for_Biotechnology_Information',\n",
       " 'https://www.ncbi.nlm.nih.gov/Taxonomy/Browser/wwwtax.cgi?mode=Info&id=34984',\n",
       " '/wiki/Help:Authority_control',\n",
       " 'https://www.wikidata.org/wiki/Q184018#identifiers',\n",
       " '/wiki/GND_(identifier)',\n",
       " 'https://d-nb.info/gnd/4346565-1',\n",
       " '/wiki/LCCN_(identifier)',\n",
       " 'https://id.loc.gov/authorities/subjects/sh85109382',\n",
       " '/wiki/LNB_(identifier)',\n",
       " 'https://kopkatalogs.lv/F?func=direct&local_base=lnc10&doc_number=000303450&P_CON_LNG=ENG',\n",
       " '/wiki/MA_(identifier)',\n",
       " 'https://academic.microsoft.com/v2/detail/2776487546',\n",
       " 'https://en.wikipedia.org/w/index.php?title=Pythonidae&oldid=1020487372',\n",
       " '/wiki/Help:Category',\n",
       " '/wiki/Category:Pythonidae',\n",
       " '/wiki/Category:Snake_families',\n",
       " '/wiki/Category:Taxa_named_by_Leopold_Fitzinger',\n",
       " '/wiki/Category:CS1_errors:_extra_text:_volume',\n",
       " '/wiki/Category:CS1:_long_volume_value',\n",
       " '/wiki/Category:Articles_with_short_description',\n",
       " '/wiki/Category:Short_description_matches_Wikidata',\n",
       " '/wiki/Category:Wikipedia_introduction_cleanup_from_May_2020',\n",
       " '/wiki/Category:All_pages_needing_cleanup',\n",
       " '/wiki/Category:Articles_covered_by_WikiProject_Wikify_from_May_2020',\n",
       " '/wiki/Category:All_articles_covered_by_WikiProject_Wikify',\n",
       " '/wiki/Category:Articles_with_%27species%27_microformats',\n",
       " '/wiki/Category:Commons_link_from_Wikidata',\n",
       " '/wiki/Category:Wikipedia_articles_with_GND_identifiers',\n",
       " '/wiki/Category:Wikipedia_articles_with_LCCN_identifiers',\n",
       " '/wiki/Category:Wikipedia_articles_with_LNB_identifiers',\n",
       " '/wiki/Category:Wikipedia_articles_with_MA_identifiers',\n",
       " '/wiki/Special:MyTalk',\n",
       " '/wiki/Special:MyContributions',\n",
       " '/w/index.php?title=Special:CreateAccount&returnto=Pythonidae',\n",
       " '/w/index.php?title=Special:UserLogin&returnto=Pythonidae',\n",
       " '/wiki/Pythonidae',\n",
       " '/wiki/Talk:Pythonidae',\n",
       " '/wiki/Pythonidae',\n",
       " '/w/index.php?title=Pythonidae&action=edit',\n",
       " '/w/index.php?title=Pythonidae&action=history',\n",
       " '/wiki/Main_Page',\n",
       " '/wiki/Main_Page',\n",
       " '/wiki/Wikipedia:Contents',\n",
       " '/wiki/Portal:Current_events',\n",
       " '/wiki/Special:Random',\n",
       " '/wiki/Wikipedia:About',\n",
       " '//en.wikipedia.org/wiki/Wikipedia:Contact_us',\n",
       " 'https://donate.wikimedia.org/wiki/Special:FundraiserRedirector?utm_source=donate&utm_medium=sidebar&utm_campaign=C13_en.wikipedia.org&uselang=en',\n",
       " '/wiki/Help:Contents',\n",
       " '/wiki/Help:Introduction',\n",
       " '/wiki/Wikipedia:Community_portal',\n",
       " '/wiki/Special:RecentChanges',\n",
       " '/wiki/Wikipedia:File_Upload_Wizard',\n",
       " '/wiki/Special:WhatLinksHere/Pythonidae',\n",
       " '/wiki/Special:RecentChangesLinked/Pythonidae',\n",
       " '/wiki/Wikipedia:File_Upload_Wizard',\n",
       " '/wiki/Special:SpecialPages',\n",
       " '/w/index.php?title=Pythonidae&oldid=1020487372',\n",
       " '/w/index.php?title=Pythonidae&action=info',\n",
       " '/w/index.php?title=Special:CiteThisPage&page=Pythonidae&id=1020487372&wpFormIdentifier=titleform',\n",
       " 'https://www.wikidata.org/wiki/Special:EntityPage/Q184018',\n",
       " '/w/index.php?title=Special:DownloadAsPdf&page=Pythonidae&action=show-download-screen',\n",
       " '/w/index.php?title=Pythonidae&printable=yes',\n",
       " 'https://commons.wikimedia.org/wiki/Category:Pythonidae',\n",
       " 'https://species.wikimedia.org/wiki/Pythonidae',\n",
       " 'https://af.wikipedia.org/wiki/Luislange',\n",
       " 'https://ar.wikipedia.org/wiki/%D8%AD%D9%81%D8%A7%D8%AB%D9%8A%D8%A7%D8%AA',\n",
       " 'https://az.wikipedia.org/wiki/Pitonlar',\n",
       " 'https://bn.wikipedia.org/wiki/%E0%A6%85%E0%A6%9C%E0%A6%97%E0%A6%B0',\n",
       " 'https://be.wikipedia.org/wiki/%D0%9F%D1%96%D1%82%D0%BE%D0%BD%D1%8B',\n",
       " 'https://bg.wikipedia.org/wiki/%D0%9F%D0%B8%D1%82%D0%BE%D0%BD%D0%BE%D0%B2%D0%B8',\n",
       " 'https://br.wikipedia.org/wiki/Naer-biton',\n",
       " 'https://ca.wikipedia.org/wiki/Pitons_(fam%C3%ADlia)',\n",
       " 'https://ceb.wikipedia.org/wiki/Pythonidae',\n",
       " 'https://cs.wikipedia.org/wiki/Krajty',\n",
       " 'https://sn.wikipedia.org/wiki/Shato',\n",
       " 'https://cy.wikipedia.org/wiki/Peithon',\n",
       " 'https://de.wikipedia.org/wiki/Pythons',\n",
       " 'https://et.wikipedia.org/wiki/P%C3%BC%C3%BCtonlased',\n",
       " 'https://es.wikipedia.org/wiki/Pythonidae',\n",
       " 'https://eo.wikipedia.org/wiki/Pitonedoj',\n",
       " 'https://eu.wikipedia.org/wiki/Pythonidae',\n",
       " 'https://fa.wikipedia.org/wiki/%D9%BE%D8%A7%DB%8C%D8%AA%D9%88%D9%86%D8%A7%D9%86',\n",
       " 'https://fr.wikipedia.org/wiki/Pythonidae',\n",
       " 'https://gl.wikipedia.org/wiki/Pythonidae',\n",
       " 'https://ko.wikipedia.org/wiki/%EB%B9%84%EB%8B%A8%EB%B1%80%EA%B3%BC',\n",
       " 'https://hy.wikipedia.org/wiki/%D5%8A%D5%AB%D5%A9%D5%B8%D5%B6%D5%B6%D5%A5%D6%80',\n",
       " 'https://hi.wikipedia.org/wiki/%E0%A4%85%E0%A4%9C%E0%A4%97%E0%A4%B0',\n",
       " 'https://hr.wikipedia.org/wiki/Pitoni',\n",
       " 'https://id.wikipedia.org/wiki/Sanca',\n",
       " 'https://it.wikipedia.org/wiki/Pythonidae',\n",
       " 'https://he.wikipedia.org/wiki/%D7%A4%D7%99%D7%AA%D7%95%D7%A0%D7%99%D7%99%D7%9D',\n",
       " 'https://ka.wikipedia.org/wiki/%E1%83%9E%E1%83%98%E1%83%97%E1%83%9D%E1%83%9C%E1%83%94%E1%83%91%E1%83%98',\n",
       " 'https://kk.wikipedia.org/wiki/%D0%9F%D0%B8%D1%82%D0%BE%D0%BD%D0%B4%D0%B0%D1%80',\n",
       " 'https://ky.wikipedia.org/wiki/%D0%9F%D0%B8%D1%82%D0%BE%D0%BD%D0%B4%D0%BE%D1%80',\n",
       " 'https://mrj.wikipedia.org/wiki/%D0%9F%D0%B8%D1%82%D0%BE%D0%BD',\n",
       " 'https://lv.wikipedia.org/wiki/Pitonu_dzimta',\n",
       " 'https://lt.wikipedia.org/wiki/Pitoniniai',\n",
       " 'https://ln.wikipedia.org/wiki/Ng%C3%BAma',\n",
       " 'https://hu.wikipedia.org/wiki/Pitonf%C3%A9l%C3%A9k',\n",
       " 'https://ms.wikipedia.org/wiki/Pythonidae',\n",
       " 'https://nl.wikipedia.org/wiki/Pythons',\n",
       " 'https://new.wikipedia.org/wiki/%E0%A4%85%E0%A4%9C%E0%A4%BF%E0%A4%99%E0%A5%8D%E0%A4%97%E0%A4%B0',\n",
       " 'https://ja.wikipedia.org/wiki/%E3%83%8B%E3%82%B7%E3%82%AD%E3%83%98%E3%83%93%E7%A7%91',\n",
       " 'https://no.wikipedia.org/wiki/Pytonslanger',\n",
       " 'https://pnb.wikipedia.org/wiki/%D9%BE%D8%A7%D8%A6%DB%8C%D8%AA%DA%BE%D9%86',\n",
       " 'https://pl.wikipedia.org/wiki/Pytony',\n",
       " 'https://pt.wikipedia.org/wiki/Pythonidae',\n",
       " 'https://ro.wikipedia.org/wiki/Pitoni',\n",
       " 'https://ru.wikipedia.org/wiki/%D0%9F%D0%B8%D1%82%D0%BE%D0%BD%D1%8B',\n",
       " 'https://sco.wikipedia.org/wiki/Pythonidae',\n",
       " 'https://nso.wikipedia.org/wiki/Hlware',\n",
       " 'https://simple.wikipedia.org/wiki/Python',\n",
       " 'https://sd.wikipedia.org/wiki/%D8%A7%D8%B1%DA%99',\n",
       " 'https://sk.wikipedia.org/wiki/Pyt%C3%B3novit%C3%A9',\n",
       " 'https://ckb.wikipedia.org/wiki/%D9%BE%D8%A7%DB%8C%D8%AA%DB%86%D9%86_(%D9%85%D8%A7%D8%B1)',\n",
       " 'https://sh.wikipedia.org/wiki/Pitoni',\n",
       " 'https://su.wikipedia.org/wiki/Sanca',\n",
       " 'https://fi.wikipedia.org/wiki/Pytonk%C3%A4%C3%A4rmeet',\n",
       " 'https://sv.wikipedia.org/wiki/Pytonormar',\n",
       " 'https://tl.wikipedia.org/wiki/Sawa_(piton)',\n",
       " 'https://th.wikipedia.org/wiki/%E0%B8%A7%E0%B8%87%E0%B8%A8%E0%B9%8C%E0%B8%87%E0%B8%B9%E0%B9%80%E0%B8%AB%E0%B8%A5%E0%B8%B7%E0%B8%AD%E0%B8%A1',\n",
       " 'https://tr.wikipedia.org/wiki/Piton',\n",
       " 'https://uk.wikipedia.org/wiki/%D0%9F%D1%96%D1%82%D0%BE%D0%BD%D0%B8',\n",
       " 'https://vi.wikipedia.org/wiki/H%E1%BB%8D_Tr%C4%83n',\n",
       " 'https://wuu.wikipedia.org/wiki/%E8%9F%92%E7%A7%91',\n",
       " 'https://diq.wikipedia.org/wiki/Piton',\n",
       " 'https://zh.wikipedia.org/wiki/%E8%9F%92%E7%A7%91',\n",
       " 'https://www.wikidata.org/wiki/Special:EntityPage/Q184018#sitelinks-wikipedia',\n",
       " '//en.wikipedia.org/wiki/Wikipedia:Text_of_Creative_Commons_Attribution-ShareAlike_3.0_Unported_License',\n",
       " '//creativecommons.org/licenses/by-sa/3.0/',\n",
       " '//foundation.wikimedia.org/wiki/Terms_of_Use',\n",
       " '//foundation.wikimedia.org/wiki/Privacy_policy',\n",
       " '//www.wikimediafoundation.org/',\n",
       " 'https://foundation.wikimedia.org/wiki/Privacy_policy',\n",
       " '/wiki/Wikipedia:About',\n",
       " '/wiki/Wikipedia:General_disclaimer',\n",
       " '//en.wikipedia.org/wiki/Wikipedia:Contact_us',\n",
       " '//en.m.wikipedia.org/w/index.php?title=Pythonidae&mobileaction=toggle_view_mobile',\n",
       " 'https://www.mediawiki.org/wiki/Special:MyLanguage/How_to_contribute',\n",
       " 'https://stats.wikimedia.org/#/en.wikipedia.org',\n",
       " 'https://foundation.wikimedia.org/wiki/Cookie_statement',\n",
       " 'https://wikimediafoundation.org/',\n",
       " 'https://www.mediawiki.org/']"
      ]
     },
     "execution_count": 22,
     "metadata": {},
     "output_type": "execute_result"
    }
   ],
   "source": [
    "#your code\n",
    "html = requests.get(url).content\n",
    "soup = BeautifulSoup(html, \"lxml\")\n",
    "links = soup.find_all('a', href=True)\n",
    "links_clean = [link['href'] for link in links]\n",
    "links_clean"
   ]
  },
  {
   "cell_type": "markdown",
   "metadata": {},
   "source": [
    "#### Number of Titles that have changed in the United States Code since its last release point "
   ]
  },
  {
   "cell_type": "code",
   "execution_count": 23,
   "metadata": {},
   "outputs": [],
   "source": [
    "# This is the url you will scrape in this exercise\n",
    "url = 'http://uscode.house.gov/download/download.shtml'"
   ]
  },
  {
   "cell_type": "code",
   "execution_count": 29,
   "metadata": {},
   "outputs": [
    {
     "data": {
      "text/plain": [
       "['Title 10 - Armed Forces ٭']"
      ]
     },
     "execution_count": 29,
     "metadata": {},
     "output_type": "execute_result"
    }
   ],
   "source": [
    "#your code\n",
    "html = requests.get(url).content\n",
    "soup = BeautifulSoup(html, \"lxml\")\n",
    "changed = soup.find_all('div', {'class':'usctitlechanged'})\n",
    "changed_clean=[title.text.replace('\\n','').strip() for title in changed]\n",
    "changed_clean"
   ]
  },
  {
   "cell_type": "markdown",
   "metadata": {},
   "source": [
    "#### A Python list with the top ten FBI's Most Wanted names "
   ]
  },
  {
   "cell_type": "code",
   "execution_count": 30,
   "metadata": {},
   "outputs": [],
   "source": [
    "# This is the url you will scrape in this exercise\n",
    "url = 'https://www.fbi.gov/wanted/topten'\n",
    "html = requests.get(url).content\n",
    "soup = BeautifulSoup(html, \"lxml\")"
   ]
  },
  {
   "cell_type": "code",
   "execution_count": 37,
   "metadata": {},
   "outputs": [
    {
     "data": {
      "text/plain": [
       "['ALEXIS FLORES',\n",
       " 'JOSE RODOLFO VILLARREAL-HERNANDEZ',\n",
       " 'EUGENE PALMER',\n",
       " 'RAFAEL CARO-QUINTERO',\n",
       " 'BHADRESHKUMAR CHETANBHAI PATEL',\n",
       " 'ROBERT WILLIAM FISHER',\n",
       " 'ALEJANDRO ROSALES CASTILLO',\n",
       " 'ARNOLDO JIMENEZ',\n",
       " 'JASON DEREK BROWN',\n",
       " 'YASER ABDEL SAID']"
      ]
     },
     "execution_count": 37,
     "metadata": {},
     "output_type": "execute_result"
    }
   ],
   "source": [
    "#your code\n",
    "top_10 = soup.find_all('h3', {'class':'title'})\n",
    "top_10_clean = [murderer.text.replace('\\n','') for murderer in top_10]\n",
    "top_10_clean"
   ]
  },
  {
   "cell_type": "markdown",
   "metadata": {},
   "source": [
    "####  20 latest earthquakes info (date, time, latitude, longitude and region name) by the EMSC as a pandas dataframe"
   ]
  },
  {
   "cell_type": "code",
   "execution_count": 44,
   "metadata": {},
   "outputs": [],
   "source": [
    "# This is the url you will scrape in this exercise\n",
    "url = 'https://www.emsc-csem.org/Earthquake/'\n",
    "html = requests.get(url).content\n",
    "soup = BeautifulSoup(html, \"lxml\")"
   ]
  },
  {
   "cell_type": "code",
   "execution_count": 45,
   "metadata": {},
   "outputs": [],
   "source": [
    "#your code\n",
    "pd.set_option('display.max_colwidth', 0)\n",
    "date = []\n",
    "time = []\n",
    "latitude = []\n",
    "longitude = []\n",
    "region_name = []"
   ]
  },
  {
   "cell_type": "code",
   "execution_count": 106,
   "metadata": {},
   "outputs": [
    {
     "ename": "TypeError",
     "evalue": "expected string or bytes-like object",
     "output_type": "error",
     "traceback": [
      "\u001b[1;31m---------------------------------------------------------------------------\u001b[0m",
      "\u001b[1;31mTypeError\u001b[0m                                 Traceback (most recent call last)",
      "\u001b[1;32m<ipython-input-106-4eaff2386e7c>\u001b[0m in \u001b[0;36m<module>\u001b[1;34m\u001b[0m\n\u001b[0;32m      2\u001b[0m \u001b[0mdate_time_clean\u001b[0m \u001b[1;33m=\u001b[0m \u001b[1;33m[\u001b[0m\u001b[0mi\u001b[0m\u001b[1;33m.\u001b[0m\u001b[0mtext\u001b[0m\u001b[1;33m.\u001b[0m\u001b[0mreplace\u001b[0m\u001b[1;33m(\u001b[0m\u001b[1;34m'\\xa0'\u001b[0m\u001b[1;33m,\u001b[0m\u001b[1;34m' '\u001b[0m\u001b[1;33m)\u001b[0m\u001b[1;33m.\u001b[0m\u001b[0mstrip\u001b[0m\u001b[1;33m(\u001b[0m\u001b[1;33m)\u001b[0m \u001b[1;32mfor\u001b[0m \u001b[0mi\u001b[0m \u001b[1;32min\u001b[0m \u001b[0mdate_time_dirty\u001b[0m\u001b[1;33m]\u001b[0m\u001b[1;33m[\u001b[0m\u001b[1;36m0\u001b[0m\u001b[1;33m:\u001b[0m\u001b[1;36m20\u001b[0m\u001b[1;33m]\u001b[0m\u001b[1;33m\u001b[0m\u001b[1;33m\u001b[0m\u001b[0m\n\u001b[0;32m      3\u001b[0m \u001b[1;31m#print(date_time_clean)\u001b[0m\u001b[1;33m\u001b[0m\u001b[1;33m\u001b[0m\u001b[1;33m\u001b[0m\u001b[0m\n\u001b[1;32m----> 4\u001b[1;33m \u001b[0mtemp\u001b[0m \u001b[1;33m=\u001b[0m \u001b[0mre\u001b[0m\u001b[1;33m.\u001b[0m\u001b[0mfindall\u001b[0m\u001b[1;33m(\u001b[0m\u001b[1;34mr'\\d{4}-\\d{2}-\\d{2}'\u001b[0m\u001b[1;33m,\u001b[0m \u001b[0mdate_time_clean\u001b[0m\u001b[1;33m)\u001b[0m\u001b[1;33m\u001b[0m\u001b[1;33m\u001b[0m\u001b[0m\n\u001b[0m\u001b[0;32m      5\u001b[0m \u001b[1;33m\u001b[0m\u001b[0m\n\u001b[0;32m      6\u001b[0m \u001b[0mregions\u001b[0m \u001b[1;33m=\u001b[0m \u001b[0msoup\u001b[0m\u001b[1;33m.\u001b[0m\u001b[0mfind_all\u001b[0m\u001b[1;33m(\u001b[0m\u001b[1;34m'td'\u001b[0m\u001b[1;33m,\u001b[0m \u001b[1;33m{\u001b[0m\u001b[1;34m'class'\u001b[0m\u001b[1;33m:\u001b[0m\u001b[1;34m'tb_region'\u001b[0m\u001b[1;33m}\u001b[0m\u001b[1;33m)\u001b[0m\u001b[1;33m\u001b[0m\u001b[1;33m\u001b[0m\u001b[0m\n",
      "\u001b[1;32m~\\Anaconda3\\lib\\re.py\u001b[0m in \u001b[0;36mfindall\u001b[1;34m(pattern, string, flags)\u001b[0m\n\u001b[0;32m    239\u001b[0m \u001b[1;33m\u001b[0m\u001b[0m\n\u001b[0;32m    240\u001b[0m     Empty matches are included in the result.\"\"\"\n\u001b[1;32m--> 241\u001b[1;33m     \u001b[1;32mreturn\u001b[0m \u001b[0m_compile\u001b[0m\u001b[1;33m(\u001b[0m\u001b[0mpattern\u001b[0m\u001b[1;33m,\u001b[0m \u001b[0mflags\u001b[0m\u001b[1;33m)\u001b[0m\u001b[1;33m.\u001b[0m\u001b[0mfindall\u001b[0m\u001b[1;33m(\u001b[0m\u001b[0mstring\u001b[0m\u001b[1;33m)\u001b[0m\u001b[1;33m\u001b[0m\u001b[1;33m\u001b[0m\u001b[0m\n\u001b[0m\u001b[0;32m    242\u001b[0m \u001b[1;33m\u001b[0m\u001b[0m\n\u001b[0;32m    243\u001b[0m \u001b[1;32mdef\u001b[0m \u001b[0mfinditer\u001b[0m\u001b[1;33m(\u001b[0m\u001b[0mpattern\u001b[0m\u001b[1;33m,\u001b[0m \u001b[0mstring\u001b[0m\u001b[1;33m,\u001b[0m \u001b[0mflags\u001b[0m\u001b[1;33m=\u001b[0m\u001b[1;36m0\u001b[0m\u001b[1;33m)\u001b[0m\u001b[1;33m:\u001b[0m\u001b[1;33m\u001b[0m\u001b[1;33m\u001b[0m\u001b[0m\n",
      "\u001b[1;31mTypeError\u001b[0m: expected string or bytes-like object"
     ]
    }
   ],
   "source": [
    "date_time_dirty = soup.select('td[class=\"tabev6\"] > b > a[href]')\n",
    "date_time_clean = [i.text.replace('\\xa0',' ').strip() for i in date_time_dirty][0:20]\n",
    "print(date_time_clean)\n",
    "\n",
    "regions = soup.find_all('td', {'class':'tb_region'})\n",
    "regions = [region.text.replace('\\xa0','') for region in regions][0:20]\n",
    "region_name.append(regions)"
   ]
  },
  {
   "cell_type": "markdown",
   "metadata": {},
   "source": [
    "#### Display the date, days, title, city, country of next 25 hackathon events as a Pandas dataframe table"
   ]
  },
  {
   "cell_type": "code",
   "execution_count": null,
   "metadata": {},
   "outputs": [],
   "source": [
    "# This is the url you will scrape in this exercise\n",
    "url ='https://hackevents.co/hackathons'"
   ]
  },
  {
   "cell_type": "code",
   "execution_count": null,
   "metadata": {},
   "outputs": [],
   "source": [
    "#your code"
   ]
  },
  {
   "cell_type": "markdown",
   "metadata": {},
   "source": [
    "#### Count number of tweets by a given Twitter account."
   ]
  },
  {
   "cell_type": "markdown",
   "metadata": {},
   "source": [
    "You will need to include a ***try/except block*** for account names not found. \n",
    "<br>***Hint:*** the program should count the number of tweets for any provided account"
   ]
  },
  {
   "cell_type": "code",
   "execution_count": null,
   "metadata": {},
   "outputs": [],
   "source": [
    "# This is the url you will scrape in this exercise \n",
    "# You will need to add the account credentials to this url\n",
    "url = 'https://twitter.com/'"
   ]
  },
  {
   "cell_type": "code",
   "execution_count": null,
   "metadata": {},
   "outputs": [],
   "source": [
    "#your code"
   ]
  },
  {
   "cell_type": "markdown",
   "metadata": {},
   "source": [
    "#### Number of followers of a given twitter account"
   ]
  },
  {
   "cell_type": "markdown",
   "metadata": {},
   "source": [
    "You will need to include a ***try/except block*** in case account/s name not found. \n",
    "<br>***Hint:*** the program should count the followers for any provided account"
   ]
  },
  {
   "cell_type": "code",
   "execution_count": null,
   "metadata": {},
   "outputs": [],
   "source": [
    "# This is the url you will scrape in this exercise \n",
    "# You will need to add the account credentials to this url\n",
    "url = 'https://twitter.com/'"
   ]
  },
  {
   "cell_type": "code",
   "execution_count": null,
   "metadata": {},
   "outputs": [],
   "source": [
    "#your code"
   ]
  },
  {
   "cell_type": "markdown",
   "metadata": {},
   "source": [
    "#### List all language names and number of related articles in the order they appear in wikipedia.org"
   ]
  },
  {
   "cell_type": "code",
   "execution_count": null,
   "metadata": {},
   "outputs": [],
   "source": [
    "# This is the url you will scrape in this exercise\n",
    "url = 'https://www.wikipedia.org/'"
   ]
  },
  {
   "cell_type": "code",
   "execution_count": null,
   "metadata": {},
   "outputs": [],
   "source": [
    "#your code"
   ]
  },
  {
   "cell_type": "markdown",
   "metadata": {},
   "source": [
    "#### A list with the different kind of datasets available in data.gov.uk "
   ]
  },
  {
   "cell_type": "code",
   "execution_count": null,
   "metadata": {},
   "outputs": [],
   "source": [
    "# This is the url you will scrape in this exercise\n",
    "url = 'https://data.gov.uk/'"
   ]
  },
  {
   "cell_type": "code",
   "execution_count": null,
   "metadata": {},
   "outputs": [],
   "source": [
    "#your code "
   ]
  },
  {
   "cell_type": "markdown",
   "metadata": {},
   "source": [
    "#### Top 10 languages by number of native speakers stored in a Pandas Dataframe"
   ]
  },
  {
   "cell_type": "code",
   "execution_count": null,
   "metadata": {},
   "outputs": [],
   "source": [
    "# This is the url you will scrape in this exercise\n",
    "url = 'https://en.wikipedia.org/wiki/List_of_languages_by_number_of_native_speakers'"
   ]
  },
  {
   "cell_type": "code",
   "execution_count": null,
   "metadata": {},
   "outputs": [],
   "source": [
    "#your code"
   ]
  },
  {
   "cell_type": "markdown",
   "metadata": {},
   "source": [
    "### BONUS QUESTIONS"
   ]
  },
  {
   "cell_type": "markdown",
   "metadata": {},
   "source": [
    "#### Scrape a certain number of tweets of a given Twitter account."
   ]
  },
  {
   "cell_type": "code",
   "execution_count": null,
   "metadata": {},
   "outputs": [],
   "source": [
    "# This is the url you will scrape in this exercise \n",
    "# You will need to add the account credentials to this url\n",
    "url = 'https://twitter.com/'"
   ]
  },
  {
   "cell_type": "code",
   "execution_count": null,
   "metadata": {},
   "outputs": [],
   "source": [
    "# your code"
   ]
  },
  {
   "cell_type": "markdown",
   "metadata": {},
   "source": [
    "#### IMDB's Top 250 data (movie name, Initial release, director name and stars) as a pandas dataframe"
   ]
  },
  {
   "cell_type": "code",
   "execution_count": null,
   "metadata": {},
   "outputs": [],
   "source": [
    "# This is the url you will scrape in this exercise \n",
    "url = 'https://www.imdb.com/chart/top'"
   ]
  },
  {
   "cell_type": "code",
   "execution_count": null,
   "metadata": {},
   "outputs": [],
   "source": [
    "# your code"
   ]
  },
  {
   "cell_type": "markdown",
   "metadata": {},
   "source": [
    "#### Movie name, year and a brief summary of the top 10 random movies (IMDB) as a pandas dataframe."
   ]
  },
  {
   "cell_type": "code",
   "execution_count": null,
   "metadata": {},
   "outputs": [],
   "source": [
    "#This is the url you will scrape in this exercise\n",
    "url = 'http://www.imdb.com/chart/top'"
   ]
  },
  {
   "cell_type": "code",
   "execution_count": null,
   "metadata": {},
   "outputs": [],
   "source": [
    "#your code"
   ]
  },
  {
   "cell_type": "markdown",
   "metadata": {},
   "source": [
    "#### Find the live weather report (temperature, wind speed, description and weather) of a given city."
   ]
  },
  {
   "cell_type": "code",
   "execution_count": null,
   "metadata": {},
   "outputs": [],
   "source": [
    "#https://openweathermap.org/current\n",
    "city = city=input('Enter the city:')\n",
    "url = 'http://api.openweathermap.org/data/2.5/weather?'+'q='+city+'&APPID=b35975e18dc93725acb092f7272cc6b8&units=metric'"
   ]
  },
  {
   "cell_type": "code",
   "execution_count": null,
   "metadata": {},
   "outputs": [],
   "source": [
    "# your code"
   ]
  },
  {
   "cell_type": "markdown",
   "metadata": {},
   "source": [
    "#### Book name,price and stock availability as a pandas dataframe."
   ]
  },
  {
   "cell_type": "code",
   "execution_count": null,
   "metadata": {},
   "outputs": [],
   "source": [
    "# This is the url you will scrape in this exercise. \n",
    "# It is a fictional bookstore created to be scraped. \n",
    "url = 'http://books.toscrape.com/'"
   ]
  },
  {
   "cell_type": "code",
   "execution_count": null,
   "metadata": {},
   "outputs": [],
   "source": [
    "#your code"
   ]
  }
 ],
 "metadata": {
  "kernelspec": {
   "display_name": "Python 3",
   "language": "python",
   "name": "python3"
  },
  "language_info": {
   "codemirror_mode": {
    "name": "ipython",
    "version": 3
   },
   "file_extension": ".py",
   "mimetype": "text/x-python",
   "name": "python",
   "nbconvert_exporter": "python",
   "pygments_lexer": "ipython3",
   "version": "3.8.5"
  }
 },
 "nbformat": 4,
 "nbformat_minor": 2
}
